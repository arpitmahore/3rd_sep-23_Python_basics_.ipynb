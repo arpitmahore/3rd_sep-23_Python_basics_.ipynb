{
  "cells": [
    {
      "cell_type": "markdown",
      "metadata": {
        "id": "view-in-github",
        "colab_type": "text"
      },
      "source": [
        "<a href=\"https://colab.research.google.com/github/PratapRK77/For_loop_basic_programs/blob/main/For_loop3rd.ipynb\" target=\"_parent\"><img src=\"https://colab.research.google.com/assets/colab-badge.svg\" alt=\"Open In Colab\"/></a>"
      ]
    },
    {
      "cell_type": "markdown",
      "metadata": {
        "id": "B8Yq6gzz6Xgj"
      },
      "source": [
        "1. Write a Python program to print the numbers from 1 to 10 using a `for` loop"
      ]
    },
    {
      "cell_type": "code",
      "execution_count": null,
      "metadata": {
        "colab": {
          "base_uri": "https://localhost:8080/"
        },
        "id": "uHGV3bFjemhN",
        "outputId": "b19ab5a5-d795-44ac-c08e-e99d47764359"
      },
      "outputs": [
        {
          "name": "stdout",
          "output_type": "stream",
          "text": [
            "1\n",
            "2\n",
            "3\n",
            "4\n",
            "5\n",
            "6\n",
            "7\n",
            "8\n",
            "9\n",
            "10\n"
          ]
        }
      ],
      "source": [
        "for i in range(1,11):\n",
        "  print(i)"
      ]
    },
    {
      "cell_type": "markdown",
      "metadata": {
        "id": "KMDQORus7ME0"
      },
      "source": [
        "2. Create a program that calculates the sum of all numbers in a list using a `for` loop."
      ]
    },
    {
      "cell_type": "code",
      "execution_count": null,
      "metadata": {
        "colab": {
          "base_uri": "https://localhost:8080/"
        },
        "id": "yz22b2or7Nd0",
        "outputId": "80dae9c5-2522-4564-e1ae-46f03b7dee53"
      },
      "outputs": [
        {
          "name": "stdout",
          "output_type": "stream",
          "text": [
            "Sum of list:  28\n"
          ]
        }
      ],
      "source": [
        "lst = [1,2,3,4,5,6,7]\n",
        "\n",
        "sum = 0\n",
        "\n",
        "for i in lst: # initialize the each element in list.\n",
        "  sum +=i # and add in previous element.\n",
        "\n",
        "print(\"Sum of list: \",sum)"
      ]
    },
    {
      "cell_type": "markdown",
      "metadata": {
        "id": "9JhywnQy8l-y"
      },
      "source": [
        "3. Write a program to print the characters of a string in reverse order using a `for` loop"
      ]
    },
    {
      "cell_type": "code",
      "execution_count": null,
      "metadata": {
        "colab": {
          "base_uri": "https://localhost:8080/"
        },
        "id": "G3m9yGuD8nHJ",
        "outputId": "d23ade9f-c4cc-496f-fe61-c344971d2c6d"
      },
      "outputs": [
        {
          "name": "stdout",
          "output_type": "stream",
          "text": [
            "Reveerse steing :  patarp flesym ,olleH \n"
          ]
        }
      ],
      "source": [
        "mystr = \"Hello, myself pratap\"\n",
        "\n",
        "string = \" \"\n",
        "\n",
        "for i in mystr:\n",
        "\n",
        "  string = i + string # reverse the string\n",
        "\n",
        "print(\"Reveerse steing : \", string)\n"
      ]
    },
    {
      "cell_type": "markdown",
      "metadata": {
        "id": "JP8cVL2qALu4"
      },
      "source": [
        "4. Develop a program that finds the factorial of a given number using a `for` loop."
      ]
    },
    {
      "cell_type": "code",
      "execution_count": null,
      "metadata": {
        "colab": {
          "base_uri": "https://localhost:8080/"
        },
        "id": "_tmcFr0NARnZ",
        "outputId": "b9bbd976-5f10-4d94-8bb6-6660eb415745"
      },
      "outputs": [
        {
          "name": "stdout",
          "output_type": "stream",
          "text": [
            "Enter number :6\n",
            "Factorial of 6 is 720\n"
          ]
        }
      ],
      "source": [
        "num = int(input(\"Enter number :\"))\n",
        "\n",
        "fact = 1\n",
        "\n",
        "for i in range(1,num+1):\n",
        "\n",
        "  fact = fact*i\n",
        "\n",
        "print(f\"Factorial of {num} is {fact}\")"
      ]
    },
    {
      "cell_type": "markdown",
      "metadata": {
        "id": "BXe3jLxuQ2sW"
      },
      "source": [
        "5. Create a program to print the multiplication table of a given number using a `for` loop."
      ]
    },
    {
      "cell_type": "code",
      "execution_count": null,
      "metadata": {
        "colab": {
          "base_uri": "https://localhost:8080/"
        },
        "id": "gE_udi5KQ8VR",
        "outputId": "042baea1-e13c-4d1f-93ef-9b52a91e1d6b"
      },
      "outputs": [
        {
          "name": "stdout",
          "output_type": "stream",
          "text": [
            "Enter number: 2\n",
            "2\n",
            "4\n",
            "6\n",
            "8\n",
            "10\n",
            "12\n",
            "14\n",
            "16\n",
            "18\n",
            "20\n"
          ]
        }
      ],
      "source": [
        "num = int(input(\"Enter number: \"))\n",
        "\n",
        "table =0\n",
        "\n",
        "for i in range(1, 11):\n",
        "\n",
        "  table = num*i\n",
        "\n",
        "  print(table)\n"
      ]
    },
    {
      "cell_type": "markdown",
      "metadata": {
        "id": "qmoqGh3LSMda"
      },
      "source": [
        "6. Write a program that counts the number of even and odd numbers in a list using a `for` loop"
      ]
    },
    {
      "cell_type": "code",
      "execution_count": null,
      "metadata": {
        "colab": {
          "base_uri": "https://localhost:8080/"
        },
        "id": "kJ0mz1hqSOT_",
        "outputId": "f5ee3bcd-3d0d-45bc-f6a5-1f7bc0203e22"
      },
      "outputs": [
        {
          "name": "stdout",
          "output_type": "stream",
          "text": [
            "Even number in list:  8\n",
            "Odd number in list:  5\n"
          ]
        }
      ],
      "source": [
        "lst = [1,2,3,4,5,6,7,8,9,10,44,46,88]\n",
        "\n",
        "count_even = 0\n",
        "\n",
        "count_odd = 0\n",
        "\n",
        "for i in lst:\n",
        "\n",
        "  if i % 2 ==0:\n",
        "    count_even +=1\n",
        "  else:\n",
        "    count_odd +=1\n",
        "\n",
        "print(\"Even number in list: \",count_even)\n",
        "print(\"Odd number in list: \",count_odd)\n"
      ]
    },
    {
      "cell_type": "markdown",
      "metadata": {
        "id": "dI_dGEf0Xfi7"
      },
      "source": [
        "7. Develop a program that prints the squares of numbers from 1 to 5 using a `for` loop"
      ]
    },
    {
      "cell_type": "code",
      "execution_count": null,
      "metadata": {
        "colab": {
          "base_uri": "https://localhost:8080/"
        },
        "id": "vsqwFSuyXgdw",
        "outputId": "401fccdb-071d-46b6-d4a9-0fd824522f3b"
      },
      "outputs": [
        {
          "name": "stdout",
          "output_type": "stream",
          "text": [
            "1\n",
            "4\n",
            "9\n",
            "16\n",
            "25\n"
          ]
        }
      ],
      "source": [
        "\n",
        "for i in range(1,6):\n",
        "\n",
        "  print(i**2)"
      ]
    },
    {
      "cell_type": "markdown",
      "metadata": {
        "id": "VjmoMg6pX2q5"
      },
      "source": [
        "8. Create a program to find the length of a string without using the `len()` function."
      ]
    },
    {
      "cell_type": "code",
      "execution_count": null,
      "metadata": {
        "colab": {
          "base_uri": "https://localhost:8080/"
        },
        "id": "3EkIx1w3X-vI",
        "outputId": "d8aa853d-2f9d-42c0-90cc-32fe1a222955"
      },
      "outputs": [
        {
          "name": "stdout",
          "output_type": "stream",
          "text": [
            "Lenghth of string : 26\n"
          ]
        }
      ],
      "source": [
        "mystr = \" hello , my name is pratap\"\n",
        "\n",
        "count = 0\n",
        "\n",
        "for i in mystr:\n",
        "\n",
        "  count +=1\n",
        "\n",
        "print(\"Lenghth of string :\",count)"
      ]
    },
    {
      "cell_type": "markdown",
      "metadata": {
        "id": "eFTzgG8NZO2d"
      },
      "source": [
        "9. Write a program that calculates the average of a list of numbers using a `for` loop."
      ]
    },
    {
      "cell_type": "code",
      "execution_count": null,
      "metadata": {
        "colab": {
          "base_uri": "https://localhost:8080/"
        },
        "id": "OGufUHOIZT3r",
        "outputId": "572208aa-dc69-455e-86fb-817c0fca00b1"
      },
      "outputs": [
        {
          "name": "stdout",
          "output_type": "stream",
          "text": [
            "Average of  list:  5.1\n"
          ]
        }
      ],
      "source": [
        "lst =[1,2,3,4,5,6,6,7,8,9]\n",
        "\n",
        "sum = 0\n",
        "avr =0\n",
        "\n",
        "for i in lst:\n",
        "\n",
        "  sum +=i\n",
        "  avr =sum/len(lst)\n",
        "\n",
        "print(\"Average of  list: \",avr)\n"
      ]
    },
    {
      "cell_type": "markdown",
      "metadata": {
        "id": "vFTQ6s01a_t5"
      },
      "source": [
        "10. Develop a program that prints the first `n` Fibonacci numbers using a `for` loop."
      ]
    },
    {
      "cell_type": "code",
      "execution_count": null,
      "metadata": {
        "colab": {
          "base_uri": "https://localhost:8080/"
        },
        "id": "3uKTmz82bEzg",
        "outputId": "0b2da9f0-6741-4679-c6b9-8a48b00fa52a"
      },
      "outputs": [
        {
          "name": "stdout",
          "output_type": "stream",
          "text": [
            "1\n",
            "2\n",
            "3\n",
            "4\n",
            "5\n",
            "6\n",
            "7\n",
            "8\n",
            "9\n",
            "10\n",
            "11\n"
          ]
        }
      ],
      "source": [
        "num = 10\n",
        "\n",
        "f1= 0\n",
        "f2 = 1\n",
        "\n",
        "for i in range(f1,num):\n",
        "\n",
        "  f\n",
        "  print(sum)\n"
      ]
    },
    {
      "cell_type": "markdown",
      "metadata": {
        "id": "VOTiHtrFKraI"
      },
      "source": [
        "10. Develop a program that prints the first `n` Fibonacci numbers using a `for` loop."
      ]
    },
    {
      "cell_type": "code",
      "execution_count": null,
      "metadata": {
        "id": "-khUiq6UGgZf"
      },
      "outputs": [],
      "source": [
        "num = 0\n",
        "num1 = 1\n",
        "fab_num = num1\n",
        "count = 0\n",
        "\n",
        "for i in range(f1) :\n",
        "  print(fab_num, end=\" \")\n",
        "  count +=1\n",
        "  num, num1 =num1, fab_num\n",
        "  fab_num = num + num1\n",
        "\n"
      ]
    },
    {
      "cell_type": "markdown",
      "metadata": {
        "id": "7gYApVDNyA8T"
      },
      "source": [
        "11. Write a program to check if a given list contains any duplicates using a `for` loop.\n"
      ]
    },
    {
      "cell_type": "code",
      "execution_count": null,
      "metadata": {
        "colab": {
          "base_uri": "https://localhost:8080/"
        },
        "id": "QXKvY-PTyCDa",
        "outputId": "8d0539a8-fd5c-46ba-8f9f-e5607e8993e7"
      },
      "outputs": [
        {
          "name": "stdout",
          "output_type": "stream",
          "text": [
            "[1, 2, 3, 6, 5, 4, 7]\n",
            "list contain duplicate item [5, 6]\n"
          ]
        }
      ],
      "source": [
        "lst = [1,2,3,6,5,4,5,6,7]\n",
        "\n",
        "unic_list = []\n",
        "\n",
        "dupli_list=[]\n",
        "\n",
        "for i in lst :\n",
        "  if i not in unic_list:\n",
        "    unic_list.append(i)\n",
        "  elif i not in dupli_list:\n",
        "    dupli_list.append(i)\n",
        "print(unic_list)\n",
        "print(\"list contain duplicate item\",dupli_list)\n",
        "\n"
      ]
    },
    {
      "cell_type": "markdown",
      "metadata": {
        "id": "0KNzNCyrArWH"
      },
      "source": [
        "12. Create a program that prints the prime numbers in a given range using a `for` loop.\n"
      ]
    },
    {
      "cell_type": "code",
      "execution_count": null,
      "metadata": {
        "colab": {
          "base_uri": "https://localhost:8080/"
        },
        "id": "p87X8p-9oQ8-",
        "outputId": "2cc86916-6b19-48eb-f1d3-9e13b913bf6f"
      },
      "outputs": [
        {
          "name": "stdout",
          "output_type": "stream",
          "text": [
            "Enter range: 25\n",
            "2\n",
            "3\n",
            "5\n",
            "7\n",
            "11\n",
            "13\n",
            "17\n",
            "19\n",
            "23\n"
          ]
        }
      ],
      "source": [
        "def primenum(n):\n",
        "\n",
        "  if( n==1 or n==0):\n",
        "    return False\n",
        "\n",
        "  for i in range (2,n):\n",
        "\n",
        "     if (n % i == 0):\n",
        "       return False\n",
        "\n",
        "  return True\n",
        "\n",
        "num =int(input(\"Enter range: \"))\n",
        "\n",
        "for i in range(1,num+1):\n",
        "\n",
        "  if (primenum(i)):\n",
        "    print(i)"
      ]
    },
    {
      "cell_type": "markdown",
      "metadata": {
        "id": "LRXhGwKfhcuk"
      },
      "source": [
        "13. Develop a program that counts the number of vowels in a string using a `for` loop.\n"
      ]
    },
    {
      "cell_type": "code",
      "execution_count": null,
      "metadata": {
        "colab": {
          "base_uri": "https://localhost:8080/"
        },
        "id": "7Eec1LjQhsiW",
        "outputId": "ce6bffd1-514d-49fd-97a1-9158442841ab"
      },
      "outputs": [
        {
          "name": "stdout",
          "output_type": "stream",
          "text": [
            "7\n"
          ]
        }
      ],
      "source": [
        "mystr = \"Hello, My name is pratap\"\n",
        "\n",
        "vowels =[\"a\",'e','i','o','u','A','E','I','O','U']\n",
        "\n",
        "count = 0\n",
        "\n",
        "for i in mystr:\n",
        "\n",
        "  if i in vowels:\n",
        "\n",
        "    count += 1\n",
        "\n",
        "print(\"Vowels in list: \",count)"
      ]
    },
    {
      "cell_type": "markdown",
      "metadata": {
        "id": "WiS0chhOjA5L"
      },
      "source": [
        "14. Write a program to find the maximum element in a 2D list using a nested `for` loop.\n"
      ]
    },
    {
      "cell_type": "code",
      "execution_count": null,
      "metadata": {
        "colab": {
          "base_uri": "https://localhost:8080/"
        },
        "id": "25QywcJxjJhE",
        "outputId": "af740d64-5b8c-4aca-f7ec-fa2c643b6c14"
      },
      "outputs": [
        {
          "name": "stdout",
          "output_type": "stream",
          "text": [
            "The maximum element in the list is  556\n"
          ]
        }
      ],
      "source": [
        "lst = [[1,2,3],[3,4,5],[34,53,23,556]]\n",
        "\n",
        "maximum_elememt = lst[0][0]\n",
        "\n",
        "for i in lst:\n",
        "\n",
        "  for j in i:\n",
        "\n",
        "    if j > maximum_elememt:\n",
        "\n",
        "      maximum_elememt = j\n",
        "\n",
        "print(\"The maximum element in the list is \", maximum_elememt)"
      ]
    },
    {
      "cell_type": "markdown",
      "metadata": {
        "id": "QwAVQw--tZr_"
      },
      "source": [
        "\n",
        "15. Create a program that removes all occurrences of a specific element from a list using a `for` loop.\n"
      ]
    },
    {
      "cell_type": "code",
      "execution_count": null,
      "metadata": {
        "colab": {
          "base_uri": "https://localhost:8080/"
        },
        "id": "UaX1oBrRteoS",
        "outputId": "f0913962-078c-45b6-e3c3-ddd6fd882dea"
      },
      "outputs": [
        {
          "name": "stdout",
          "output_type": "stream",
          "text": [
            "Enter element : 33\n",
            "Aftter removing element : [1, 2, 3, 4, 5, 6, 22, 44, 55, 66, 7]\n"
          ]
        }
      ],
      "source": [
        "lst = [ 1,2,3,4,5,6,22,33,44,55,66,7]\n",
        "\n",
        "element = int(input(\"Enter element : \"))\n",
        "\n",
        "new_lst =[]\n",
        "\n",
        "for i in lst:\n",
        "\n",
        "  if i!=element:\n",
        "\n",
        "    new_lst.append(i)\n",
        "\n",
        "print(f\"Aftter removing element : {new_lst}\")\n",
        "\n"
      ]
    },
    {
      "cell_type": "markdown",
      "metadata": {
        "id": "1ttKbswXwpeb"
      },
      "source": [
        "16. Develop a program that generates a multiplication table for numbers from 1 to 5 using a nested `for` loop.\n"
      ]
    },
    {
      "cell_type": "code",
      "execution_count": null,
      "metadata": {
        "colab": {
          "base_uri": "https://localhost:8080/"
        },
        "id": "hzHpigw2wtdZ",
        "outputId": "8324471c-1929-42a4-b53d-ceef84dbff4f"
      },
      "outputs": [
        {
          "name": "stdout",
          "output_type": "stream",
          "text": [
            "1\n",
            "2\n",
            "3\n",
            "4\n",
            "5\n",
            "6\n",
            "7\n",
            "8\n",
            "9\n",
            "10\n",
            "2\n",
            "4\n",
            "6\n",
            "8\n",
            "10\n",
            "12\n",
            "14\n",
            "16\n",
            "18\n",
            "20\n",
            "3\n",
            "6\n",
            "9\n",
            "12\n",
            "15\n",
            "18\n",
            "21\n",
            "24\n",
            "27\n",
            "30\n",
            "4\n",
            "8\n",
            "12\n",
            "16\n",
            "20\n",
            "24\n",
            "28\n",
            "32\n",
            "36\n",
            "40\n",
            "5\n",
            "10\n",
            "15\n",
            "20\n",
            "25\n",
            "30\n",
            "35\n",
            "40\n",
            "45\n",
            "50\n"
          ]
        }
      ],
      "source": [
        "table = ()\n",
        "\n",
        "for i in range(1,6):\n",
        "\n",
        "  for j in range(1,11):\n",
        "\n",
        "    table = i*j\n",
        "\n",
        "    print( table)\n",
        "\n",
        "\n"
      ]
    },
    {
      "cell_type": "markdown",
      "metadata": {
        "id": "NXZrUT8B-cI2"
      },
      "source": [
        "17. Write a program that converts a list of Fahrenheit temperatures to Celsius using a `for` loop.\n"
      ]
    },
    {
      "cell_type": "code",
      "execution_count": null,
      "metadata": {
        "colab": {
          "base_uri": "https://localhost:8080/"
        },
        "id": "OFnqzmyx-dhq",
        "outputId": "c589897f-cb6c-4e98-e362-f84f3a49a581"
      },
      "outputs": [
        {
          "name": "stdout",
          "output_type": "stream",
          "text": [
            "-12.222222222222221\n",
            "-6.666666666666667\n",
            "-1.1111111111111112\n",
            "4.444444444444445\n",
            "10.0\n"
          ]
        }
      ],
      "source": [
        "lst =[10,20,30,40,50]\n",
        "\n",
        "celsius = []\n",
        "\n",
        "for i in lst:\n",
        "\n",
        "  celsius = (i -32.0)*5.0/9.0\n",
        "\n",
        "  print(celsius)\n",
        "\n"
      ]
    },
    {
      "cell_type": "markdown",
      "metadata": {
        "id": "ToBNXaXdGskZ"
      },
      "source": [
        "18. Create a program to print the common elements from two lists using a `for` loop.\n"
      ]
    },
    {
      "cell_type": "code",
      "execution_count": null,
      "metadata": {
        "colab": {
          "base_uri": "https://localhost:8080/"
        },
        "id": "AtzqaN6KGyY-",
        "outputId": "e098bf93-b590-4ff0-ccc6-98f4414d0d6d"
      },
      "outputs": [
        {
          "name": "stdout",
          "output_type": "stream",
          "text": [
            "Common element in lists [4, 5, 7]\n"
          ]
        }
      ],
      "source": [
        "lst = [1,2,3,4,5,6,7]\n",
        "\n",
        "lst1 = [11,22,33,4,5,66,7]\n",
        "\n",
        "common_element = list(i for i in lst if i in lst1)\n",
        "\n",
        "print(\"Common element in lists\",common_element)\n"
      ]
    },
    {
      "cell_type": "markdown",
      "metadata": {
        "id": "KpGZpPhFImah"
      },
      "source": [
        "19. Develop a program that prints the pattern of right-angled triangles using a `for` loop. Use ‘*’ to draw the\n",
        "pattern"
      ]
    },
    {
      "cell_type": "code",
      "execution_count": null,
      "metadata": {
        "colab": {
          "base_uri": "https://localhost:8080/"
        },
        "id": "vVT9fZRLIrjB",
        "outputId": "58c49bea-c27d-4eaf-c83a-fc657e2589fd"
      },
      "outputs": [
        {
          "name": "stdout",
          "output_type": "stream",
          "text": [
            "* \n",
            "* * \n",
            "* * * \n",
            "* * * * \n",
            "* * * * * \n"
          ]
        }
      ],
      "source": [
        "i = 0\n",
        "\n",
        "for i in range(1,6):\n",
        "\n",
        "  for j in range(1,i+1):\n",
        "\n",
        "     print(\"*\",end= \" \")\n",
        "\n",
        "  print()\n"
      ]
    },
    {
      "cell_type": "markdown",
      "metadata": {
        "id": "gONbxy8FLZGn"
      },
      "source": [
        "20. Write a program to find the greatest common divisor (GCD) of two numbers using a `for` loop.\n"
      ]
    },
    {
      "cell_type": "code",
      "execution_count": null,
      "metadata": {
        "colab": {
          "base_uri": "https://localhost:8080/"
        },
        "id": "bUKX7FpMLecc",
        "outputId": "2d59c344-3757-4c77-f67f-cb74867a8f54"
      },
      "outputs": [
        {
          "name": "stdout",
          "output_type": "stream",
          "text": [
            "Gretest common divisor 6\n"
          ]
        }
      ],
      "source": [
        "def gcd(a,b):\n",
        "\n",
        "  gcd=1\n",
        "\n",
        "  for i in range(1,min(a,b)+1):\n",
        "\n",
        "    if a % i == 0 and b % i == 0:\n",
        "\n",
        "      gcd=i\n",
        "\n",
        "  return gcd\n",
        "\n",
        "G=gcd(12,18)\n",
        "\n",
        "print(\"Gretest common divisor\",G)\n"
      ]
    },
    {
      "cell_type": "markdown",
      "metadata": {
        "id": "AFaiKjOTOMAo"
      },
      "source": [
        "21. Create a program that calculates the sum of the digits of numbers in a list using a list comprehension.\n"
      ]
    },
    {
      "cell_type": "code",
      "execution_count": null,
      "metadata": {
        "colab": {
          "base_uri": "https://localhost:8080/"
        },
        "id": "GVHI236xONtx",
        "outputId": "9592e832-a3e2-46c4-f030-07dce60299c5"
      },
      "outputs": [
        {
          "name": "stdout",
          "output_type": "stream",
          "text": [
            "Sum of digits of numbers in a list:  [3, 8, 6, 11, 12, 13]\n"
          ]
        }
      ],
      "source": [
        "lst = [12,26,33,74,57,67]\n",
        "\n",
        "Scr = list(sum(int(j) for j in str(i)) for i in lst)\n",
        "\n",
        "print(\"Sum of digits of numbers in a list: \",Scr)"
      ]
    },
    {
      "cell_type": "markdown",
      "metadata": {
        "id": "_60px_pcf6aC"
      },
      "source": [
        "22. Write a program to find the prime factors of a given number using a `for` loop and list comprehension.\n"
      ]
    },
    {
      "cell_type": "code",
      "execution_count": null,
      "metadata": {
        "colab": {
          "base_uri": "https://localhost:8080/"
        },
        "id": "9oWcS5UPczgj",
        "outputId": "7d2e9cde-4db0-4179-b842-2d15b4d65d52"
      },
      "outputs": [
        {
          "name": "stdout",
          "output_type": "stream",
          "text": [
            "Prime factors of 20 are {2, 5}\n",
            "Prime factors of 1260 are {2, 3, 5, 7}\n"
          ]
        }
      ],
      "source": [
        "def calculate_prime_factors(N):\n",
        "    prime_factors = set()\n",
        "    if N % 2 == 0:\n",
        "        prime_factors.add(2)\n",
        "    while N % 2 == 0:\n",
        "        N = N // 2\n",
        "        if N == 1:\n",
        "            return prime_factors\n",
        "    for factor in range(3, N + 1, 2):\n",
        "        if N % factor == 0:\n",
        "            prime_factors.add(factor)\n",
        "            while N % factor == 0:\n",
        "                N = N // factor\n",
        "                if N == 1:\n",
        "                    return prime_factors\n",
        "\n",
        "\n",
        "input_number = 20\n",
        "output = calculate_prime_factors(input_number)\n",
        "print(\"Prime factors of {} are {}\".format(input_number, output))\n",
        "input_number = 1260\n",
        "output = calculate_prime_factors(input_number)\n",
        "print(\"Prime factors of {} are {}\".format(input_number, output))"
      ]
    },
    {
      "cell_type": "markdown",
      "metadata": {
        "id": "gavMxqUtc8md"
      },
      "source": [
        "23. Develop a program that extracts unique elements from a list and stores them in a new list using a list\n",
        "comprehension."
      ]
    },
    {
      "cell_type": "code",
      "execution_count": null,
      "metadata": {
        "colab": {
          "background_save": true,
          "base_uri": "https://localhost:8080/"
        },
        "id": "I9WhTGJedDs7",
        "outputId": "341f34b5-d241-43f5-aa7b-c4367e932ee2"
      },
      "outputs": [
        {
          "name": "stdout",
          "output_type": "stream",
          "text": [
            "[1, 2, 3, 4, 5, 6, 7, 4, 2, 5]\n"
          ]
        }
      ],
      "source": [
        "lst = [1,2,3,4,5,6,7,4,2,5]\n",
        "\n",
        "new_lst = []\n",
        "\n",
        "common_element =[]\n",
        "\n",
        "for i in lst:\n",
        "\n",
        "  if i in lst:\n",
        "\n",
        "    new_lst.append(i)\n",
        "\n",
        "print(new_lst)\n",
        "\n"
      ]
    },
    {
      "cell_type": "markdown",
      "metadata": {
        "id": "OftfcIA-rJJl"
      },
      "source": [
        "25. Write a program to flatten a nested list using list comprehension.\n"
      ]
    },
    {
      "cell_type": "code",
      "execution_count": null,
      "metadata": {
        "colab": {
          "base_uri": "https://localhost:8080/"
        },
        "id": "pjDn_D8drrz6",
        "outputId": "e06c689d-5b41-44e9-cb83-203d6af73350"
      },
      "outputs": [
        {
          "name": "stdout",
          "output_type": "stream",
          "text": [
            "[1, 2, 3, 4, 11, 22, 33, 44, 77, 66, 55]\n"
          ]
        }
      ],
      "source": [
        "nested_lst = [[1,2,3,4],[11,22,33,44],[77,66,55]]\n",
        "\n",
        "flat_list = list(i for sub_list in nested_lst for i in sub_list)\n",
        "\n",
        "print(flat_list)"
      ]
    },
    {
      "cell_type": "markdown",
      "metadata": {
        "id": "ISkgff7zuk65"
      },
      "source": [
        "26. Develop a program that computes the sum of even and odd numbers in a list separately using list comprehension."
      ]
    },
    {
      "cell_type": "code",
      "execution_count": 6,
      "metadata": {
        "colab": {
          "base_uri": "https://localhost:8080/"
        },
        "id": "8imKdkH-umHD",
        "outputId": "d03f89c2-af9c-4070-fb7f-c0113b1442e0"
      },
      "outputs": [
        {
          "output_type": "stream",
          "name": "stdout",
          "text": [
            "The sum of even numbers is: 30\n",
            "The sum of odd numbers is: 25\n"
          ]
        }
      ],
      "source": [
        "numbers = [1, 2, 3, 4, 5, 6, 7, 8, 9, 10]\n",
        "\n",
        "even_numbers = [n for n in numbers if n % 2 == 0]\n",
        "\n",
        "odd_numbers = [n for n in numbers if n % 2 == 1]\n",
        "\n",
        "even_sum = sum(even_numbers)\n",
        "odd_sum = sum(odd_numbers)\n",
        "\n",
        "print(\"The sum of even numbers is:\", even_sum)\n",
        "print(\"The sum of odd numbers is:\", odd_sum)\n"
      ]
    },
    {
      "cell_type": "markdown",
      "metadata": {
        "id": "Xh0AW2U34VQQ"
      },
      "source": [
        "27. Create a program that generates a list of squares of odd numbers between 1 and 10 using list\n",
        "comprehension."
      ]
    },
    {
      "cell_type": "code",
      "execution_count": null,
      "metadata": {
        "colab": {
          "base_uri": "https://localhost:8080/"
        },
        "id": "4gVOyLC04W2V",
        "outputId": "f72b19a2-f827-4a96-f96c-1e6941b57610"
      },
      "outputs": [
        {
          "name": "stdout",
          "output_type": "stream",
          "text": [
            "Square of odd number:  [1, 9, 25, 49, 81]\n"
          ]
        }
      ],
      "source": [
        "\n",
        "square_odd = [i**2 for i in range(1,11) if i%2 != 0]\n",
        "\n",
        "print(\"Square of odd number: \",square_odd)"
      ]
    },
    {
      "cell_type": "markdown",
      "metadata": {
        "id": "EZiwRJ645j1u"
      },
      "source": [
        "28. Write a program that combines two lists into a dictionary using list comprehension.\n"
      ]
    },
    {
      "cell_type": "code",
      "execution_count": null,
      "metadata": {
        "colab": {
          "base_uri": "https://localhost:8080/"
        },
        "id": "0GiyT5hU5k0B",
        "outputId": "62d0dba0-e207-4d59-d298-af853c722bc9"
      },
      "outputs": [
        {
          "name": "stdout",
          "output_type": "stream",
          "text": [
            "{'pratap': 77, 'ashish': 8, 'sachin': 99, 'rush': 66}\n"
          ]
        }
      ],
      "source": [
        "lst = ['pratap','ashish','sachin','rush']\n",
        "lst1 =[77,8,99,66]\n",
        "\n",
        "conv_dict = {lst[i]:lst1[i] for i in range(len(lst))}\n",
        "print(conv_dict)"
      ]
    },
    {
      "cell_type": "markdown",
      "metadata": {
        "id": "IAvJWtaEDaB_"
      },
      "source": [
        "29. Develop a program that extracts the vowels from a string and stores them in a list using list comprehension.\n"
      ]
    },
    {
      "cell_type": "code",
      "execution_count": null,
      "metadata": {
        "colab": {
          "base_uri": "https://localhost:8080/"
        },
        "id": "HdWmjqtYFvAA",
        "outputId": "01484965-3761-46a5-871e-577f761d343f"
      },
      "outputs": [
        {
          "name": "stdout",
          "output_type": "stream",
          "text": [
            "['e', 'o', 'a', 'e', 'i', 'a', 'a']\n"
          ]
        }
      ],
      "source": [
        "mystr = \"Hello, My name is pratap\"\n",
        "\n",
        "vowels =[\"a\",'e','i','o','u','A','E','I','O','U']\n",
        "\n",
        "\n",
        "extract_vowels = [i for i in mystr if i in vowels]\n",
        "\n",
        "print(extract_vowels)"
      ]
    },
    {
      "cell_type": "markdown",
      "metadata": {
        "id": "BIsyQE8zI3-4"
      },
      "source": [
        "30. Create a program that removes all non-numeric characters from a list of strings using list comprehension.\n"
      ]
    },
    {
      "cell_type": "code",
      "execution_count": null,
      "metadata": {
        "colab": {
          "base_uri": "https://localhost:8080/"
        },
        "id": "8V_jRqjbH350",
        "outputId": "da684692-2356-45b3-e56c-51730cb4319d"
      },
      "outputs": [
        {
          "name": "stdout",
          "output_type": "stream",
          "text": [
            "After remove all non-numeric characters:  [25, 45]\n"
          ]
        }
      ],
      "source": [
        "lst = [\"hiii\",25,45,\"Hello\"]\n",
        "\n",
        "remov_str = [i for i in lst if i != str(i)]\n",
        "\n",
        "print(\"After remove all non-numeric characters: \",remov_str)"
      ]
    },
    {
      "cell_type": "markdown",
      "metadata": {
        "id": "fTIsObiIKojh"
      },
      "source": [
        "31. Write a program to generate a list of prime numbers using the Sieve of Eratosthenes algorithm and list\n",
        "comprehension."
      ]
    },
    {
      "cell_type": "code",
      "execution_count": null,
      "metadata": {
        "colab": {
          "base_uri": "https://localhost:8080/"
        },
        "id": "WsO4UZZhKs48",
        "outputId": "337ed07f-1945-481e-84bd-f4703be8c111"
      },
      "outputs": [
        {
          "name": "stdout",
          "output_type": "stream",
          "text": [
            "Following are the prime numbers smaller\n",
            "than or equal to 20\n",
            "2\n",
            "3\n",
            "5\n",
            "7\n",
            "11\n",
            "13\n",
            "17\n",
            "19\n"
          ]
        }
      ],
      "source": [
        "def SieveOfEratosthenes(n):\n",
        "\n",
        "\tprime = [True for i in range(n+1)]\n",
        "\tp = 2\n",
        "\twhile (p * p <= n):\n",
        "\n",
        "\n",
        "\t\tif (prime[p] == True):\n",
        "\n",
        "\t\t\tfor i in range(p * p, n+1, p):\n",
        "\t\t\t\tprime[i] = False\n",
        "\t\tp += 1\n",
        "\n",
        "\n",
        "\tfor p in range(2, n+1):\n",
        "\t\tif prime[p]:\n",
        "\t\t\tprint(p)\n",
        "\n",
        "if __name__ == '__main__':\n",
        "\tn = 20\n",
        "\tprint(\"Following are the prime numbers smaller\"),\n",
        "\tprint(\"than or equal to\", n)\n",
        "\tSieveOfEratosthenes(n)\n"
      ]
    },
    {
      "cell_type": "markdown",
      "metadata": {
        "id": "j7JNFWflPXUw"
      },
      "source": [
        "32. Create a program that generates a list of all Pythagorean triplets up to a specified limit using list\n",
        "comprehension."
      ]
    },
    {
      "cell_type": "code",
      "execution_count": null,
      "metadata": {
        "colab": {
          "base_uri": "https://localhost:8080/"
        },
        "id": "wxfB4YNtPcdF",
        "outputId": "c49328af-7dd0-4ea2-9ea3-609eb7035b4c"
      },
      "outputs": [
        {
          "name": "stdout",
          "output_type": "stream",
          "text": [
            "3 4 5\n",
            "8 6 10\n",
            "5 12 13\n",
            "15 8 17\n",
            "12 16 20\n"
          ]
        }
      ],
      "source": [
        "def pythagoreanTriplets(limits) :\n",
        "\tc, m = 0, 2\n",
        "\n",
        "\twhile c < limits :\n",
        "\n",
        "\t\tfor n in range(1, m) :\n",
        "\t\t\ta = m * m - n * n\n",
        "\t\t\tb = 2 * m * n\n",
        "\t\t\tc = m * m + n * n\n",
        "\n",
        "\t\t\t# limit then break it\n",
        "\t\t\tif c > limits :\n",
        "\t\t\t\tbreak\n",
        "\n",
        "\t\t\tprint(a, b, c)\n",
        "\n",
        "\t\tm = m + 1\n",
        "\n",
        "# Driver Code\n",
        "if __name__ == '__main__' :\n",
        "\n",
        "\tlimit = 20\n",
        "\tpythagoreanTriplets(limit)"
      ]
    },
    {
      "cell_type": "markdown",
      "metadata": {
        "id": "mEcwJ43wTn6Q"
      },
      "source": [
        "33. Develop a program that generates a list of all possible combinations of two lists using list comprehension."
      ]
    },
    {
      "cell_type": "code",
      "execution_count": null,
      "metadata": {
        "colab": {
          "base_uri": "https://localhost:8080/"
        },
        "id": "8XHfS_xJTtUM",
        "outputId": "a2a04546-7818-4990-f6a2-a26e0bfdb875"
      },
      "outputs": [
        {
          "name": "stdout",
          "output_type": "stream",
          "text": [
            "Possible Combination of two lists : [(1, 'a'), (1, 'b'), (1, 'c'), (1, 'd'), (2, 'a'), (2, 'b'), (2, 'c'), (2, 'd'), (3, 'a'), (3, 'b'), (3, 'c'), (3, 'd'), (4, 'a'), (4, 'b'), (4, 'c'), (4, 'd')]\n"
          ]
        }
      ],
      "source": [
        "lst1 = [1,2,3,4]\n",
        "lst2 =['a','b','c','d']\n",
        "\n",
        "possible_combination = [(x,y) for x in lst1 for y in lst2]\n",
        "\n",
        "print(\"Possible Combination of two lists :\",possible_combination)"
      ]
    },
    {
      "cell_type": "markdown",
      "metadata": {
        "id": "-yNDUug5hCZi"
      },
      "source": [
        "34. Write a program that calculates the mean, median, and mode of a list of numbers using list\n",
        "comprehension"
      ]
    },
    {
      "cell_type": "code",
      "execution_count": null,
      "metadata": {
        "colab": {
          "base_uri": "https://localhost:8080/"
        },
        "id": "xpsbhDi-hHVm",
        "outputId": "49aa364f-e3f3-47c6-ca45-916ea26d089b"
      },
      "outputs": [
        {
          "name": "stdout",
          "output_type": "stream",
          "text": [
            "The mean is 5.5\n",
            "The median is 5.5\n",
            "The mode is 1\n"
          ]
        }
      ],
      "source": [
        "numbers = [1, 2, 3, 4, 5, 6, 7, 8, 9, 10]\n",
        "\n",
        "mean = sum(numbers) / len(numbers)\n",
        "\n",
        "sorted_numbers = sorted(numbers)\n",
        "middle_index = len(numbers) // 2\n",
        "\n",
        "if len(numbers) % 2 == 0:\n",
        "    median = (sorted_numbers[middle_index - 1] + sorted_numbers[middle_index]) / 2\n",
        "else:\n",
        "    median = sorted_numbers[middle_index]\n",
        "\n",
        "counts = [(x, numbers.count(x)) for x in set(numbers)]\n",
        "mode = max(counts, key=lambda x: x[1])[0]\n",
        "\n",
        "print(f\"The mean is {mean}\")\n",
        "print(f\"The median is {median}\")\n",
        "print(f\"The mode is {mode}\")\n"
      ]
    },
    {
      "cell_type": "markdown",
      "metadata": {
        "id": "bqfSVzQbizat"
      },
      "source": [
        "35. Create a program that generates Pascal's triangle up to a specified number of rows using list\n",
        "comprehension."
      ]
    },
    {
      "cell_type": "code",
      "execution_count": null,
      "metadata": {
        "colab": {
          "base_uri": "https://localhost:8080/"
        },
        "id": "mmKIDpmsi31O",
        "outputId": "9be45296-9b4c-474d-8082-ec0a4b09f764"
      },
      "outputs": [
        {
          "name": "stdout",
          "output_type": "stream",
          "text": [
            "Enter the number of rows: 5\n",
            "[[1], [1, 1], [1, 2, 1], [1, 3, 3, 1], [1, 4, 6, 4, 1]]\n"
          ]
        }
      ],
      "source": [
        "def pascal_triangle(n):\n",
        "\n",
        "    triangle = []\n",
        "\n",
        "    for i in range(n):\n",
        "\n",
        "        row = [1 if j == 0 or j == i else triangle[i-1][j-1] + triangle[i-1][j] for j in range(i+1)]\n",
        "\n",
        "        triangle.append(row)\n",
        "\n",
        "    return triangle\n",
        "\n",
        "\n",
        "n = int(input(\"Enter the number of rows: \"))\n",
        "\n",
        "print(pascal_triangle(n))\n"
      ]
    },
    {
      "cell_type": "markdown",
      "metadata": {
        "id": "8JvsMbmGr5GF"
      },
      "source": [
        "36. Develop a program that calculates the sum of the digits of a factorial of numbers from 1 to 5 using list\n",
        "comprehension."
      ]
    },
    {
      "cell_type": "code",
      "execution_count": null,
      "metadata": {
        "colab": {
          "base_uri": "https://localhost:8080/"
        },
        "id": "QF2Tzr7Jr9gd",
        "outputId": "e8249258-a548-406c-a6b8-323afed67f19"
      },
      "outputs": [
        {
          "name": "stdout",
          "output_type": "stream",
          "text": [
            "[1, 2, 6, 6, 3]\n"
          ]
        }
      ],
      "source": [
        "def factorial(n):\n",
        "\n",
        "    if n == 0 or n == 1:\n",
        "        return 1\n",
        "\n",
        "    else:\n",
        "        return n * factorial(n-1)\n",
        "\n",
        "def digit_sum(n):\n",
        "    digits = [int(x) for x in str(n)]\n",
        "\n",
        "    return sum(digits)\n",
        "\n",
        "numbers = [x for x in range(1, 6)]\n",
        "\n",
        "results = [digit_sum(factorial(x)) for x in numbers]\n",
        "\n",
        "print(results)\n"
      ]
    },
    {
      "cell_type": "markdown",
      "metadata": {
        "id": "xpg6VTWstSBI"
      },
      "source": [
        "37. Write a program that finds the longest word in a sentence using list comprehension.\n"
      ]
    },
    {
      "cell_type": "code",
      "execution_count": null,
      "metadata": {
        "colab": {
          "background_save": true,
          "base_uri": "https://localhost:8080/"
        },
        "id": "Ce3UjpXqtexZ",
        "outputId": "c6d72368-665c-42c4-c766-92a083dd18d0"
      },
      "outputs": [
        {
          "name": "stdout",
          "output_type": "stream",
          "text": [
            "The longest word in the sentence is : Hello,\n"
          ]
        }
      ],
      "source": [
        "sentence = \"\"\n",
        "\n",
        "words = [x for x in sentence.split()]\n",
        "\n",
        "lengths = [len(x) for x in words]\n",
        "\n",
        "max_index = lengths.index(max(lengths))\n",
        "\n",
        "longest_word = words[max_index]\n",
        "\n",
        "print(f\"The longest word in the sentence is {longest_word}\")\n"
      ]
    },
    {
      "cell_type": "markdown",
      "source": [
        "38. Create a program that filters a list of strings to include only those with more than three vowels using list\n",
        "comprehension\n"
      ],
      "metadata": {
        "id": "Ml4y3b6prko6"
      }
    },
    {
      "cell_type": "code",
      "source": [
        "def count_vowels(s):\n",
        "\n",
        "  vowels = {'a', 'e', 'i', 'o', 'u'}\n",
        "\n",
        "  count = 0\n",
        "\n",
        "  for c in s:\n",
        "\n",
        "    if c.lower() in vowels:\n",
        "      count += 1\n",
        "\n",
        "  return count\n",
        "\n",
        "strings = [\"hello\", \"world\", \"python\", \"programming\", \"beautiful\"]\n",
        "\n",
        "filtered = [s for s in strings if count_vowels(s) > 3]\n",
        "\n",
        "print(filtered)\n"
      ],
      "metadata": {
        "colab": {
          "base_uri": "https://localhost:8080/"
        },
        "id": "9E6zQxwyrnNJ",
        "outputId": "536488fd-7b62-4a3c-8dea-b24bf95367b9"
      },
      "execution_count": 2,
      "outputs": [
        {
          "output_type": "stream",
          "name": "stdout",
          "text": [
            "['beautiful']\n"
          ]
        }
      ]
    },
    {
      "cell_type": "markdown",
      "source": [
        "39. Develop a program that calculates the sum of the digits of numbers from 1 to 1000 using list\n",
        "comprehension."
      ],
      "metadata": {
        "id": "VNX3l4x72qq5"
      }
    },
    {
      "cell_type": "code",
      "source": [
        "def sum_digits(n):\n",
        "\n",
        "\n",
        "  sum = 0\n",
        "\n",
        "  while n > 0:\n",
        "\n",
        "    sum += n % 10\n",
        "\n",
        "    n //= 10\n",
        "\n",
        "  return sum\n",
        "\n",
        "numbers = [n for n in range(1, 1001)]\n",
        "\n",
        "sums = [sum_digits(n) for n in numbers]\n",
        "\n",
        "print(sums)\n"
      ],
      "metadata": {
        "colab": {
          "base_uri": "https://localhost:8080/"
        },
        "id": "cfD5QUuD2ygg",
        "outputId": "8fc8281d-8ab5-4f77-b70e-505dba2ea99f"
      },
      "execution_count": 3,
      "outputs": [
        {
          "output_type": "stream",
          "name": "stdout",
          "text": [
            "[1, 2, 3, 4, 5, 6, 7, 8, 9, 1, 2, 3, 4, 5, 6, 7, 8, 9, 10, 2, 3, 4, 5, 6, 7, 8, 9, 10, 11, 3, 4, 5, 6, 7, 8, 9, 10, 11, 12, 4, 5, 6, 7, 8, 9, 10, 11, 12, 13, 5, 6, 7, 8, 9, 10, 11, 12, 13, 14, 6, 7, 8, 9, 10, 11, 12, 13, 14, 15, 7, 8, 9, 10, 11, 12, 13, 14, 15, 16, 8, 9, 10, 11, 12, 13, 14, 15, 16, 17, 9, 10, 11, 12, 13, 14, 15, 16, 17, 18, 1, 2, 3, 4, 5, 6, 7, 8, 9, 10, 2, 3, 4, 5, 6, 7, 8, 9, 10, 11, 3, 4, 5, 6, 7, 8, 9, 10, 11, 12, 4, 5, 6, 7, 8, 9, 10, 11, 12, 13, 5, 6, 7, 8, 9, 10, 11, 12, 13, 14, 6, 7, 8, 9, 10, 11, 12, 13, 14, 15, 7, 8, 9, 10, 11, 12, 13, 14, 15, 16, 8, 9, 10, 11, 12, 13, 14, 15, 16, 17, 9, 10, 11, 12, 13, 14, 15, 16, 17, 18, 10, 11, 12, 13, 14, 15, 16, 17, 18, 19, 2, 3, 4, 5, 6, 7, 8, 9, 10, 11, 3, 4, 5, 6, 7, 8, 9, 10, 11, 12, 4, 5, 6, 7, 8, 9, 10, 11, 12, 13, 5, 6, 7, 8, 9, 10, 11, 12, 13, 14, 6, 7, 8, 9, 10, 11, 12, 13, 14, 15, 7, 8, 9, 10, 11, 12, 13, 14, 15, 16, 8, 9, 10, 11, 12, 13, 14, 15, 16, 17, 9, 10, 11, 12, 13, 14, 15, 16, 17, 18, 10, 11, 12, 13, 14, 15, 16, 17, 18, 19, 11, 12, 13, 14, 15, 16, 17, 18, 19, 20, 3, 4, 5, 6, 7, 8, 9, 10, 11, 12, 4, 5, 6, 7, 8, 9, 10, 11, 12, 13, 5, 6, 7, 8, 9, 10, 11, 12, 13, 14, 6, 7, 8, 9, 10, 11, 12, 13, 14, 15, 7, 8, 9, 10, 11, 12, 13, 14, 15, 16, 8, 9, 10, 11, 12, 13, 14, 15, 16, 17, 9, 10, 11, 12, 13, 14, 15, 16, 17, 18, 10, 11, 12, 13, 14, 15, 16, 17, 18, 19, 11, 12, 13, 14, 15, 16, 17, 18, 19, 20, 12, 13, 14, 15, 16, 17, 18, 19, 20, 21, 4, 5, 6, 7, 8, 9, 10, 11, 12, 13, 5, 6, 7, 8, 9, 10, 11, 12, 13, 14, 6, 7, 8, 9, 10, 11, 12, 13, 14, 15, 7, 8, 9, 10, 11, 12, 13, 14, 15, 16, 8, 9, 10, 11, 12, 13, 14, 15, 16, 17, 9, 10, 11, 12, 13, 14, 15, 16, 17, 18, 10, 11, 12, 13, 14, 15, 16, 17, 18, 19, 11, 12, 13, 14, 15, 16, 17, 18, 19, 20, 12, 13, 14, 15, 16, 17, 18, 19, 20, 21, 13, 14, 15, 16, 17, 18, 19, 20, 21, 22, 5, 6, 7, 8, 9, 10, 11, 12, 13, 14, 6, 7, 8, 9, 10, 11, 12, 13, 14, 15, 7, 8, 9, 10, 11, 12, 13, 14, 15, 16, 8, 9, 10, 11, 12, 13, 14, 15, 16, 17, 9, 10, 11, 12, 13, 14, 15, 16, 17, 18, 10, 11, 12, 13, 14, 15, 16, 17, 18, 19, 11, 12, 13, 14, 15, 16, 17, 18, 19, 20, 12, 13, 14, 15, 16, 17, 18, 19, 20, 21, 13, 14, 15, 16, 17, 18, 19, 20, 21, 22, 14, 15, 16, 17, 18, 19, 20, 21, 22, 23, 6, 7, 8, 9, 10, 11, 12, 13, 14, 15, 7, 8, 9, 10, 11, 12, 13, 14, 15, 16, 8, 9, 10, 11, 12, 13, 14, 15, 16, 17, 9, 10, 11, 12, 13, 14, 15, 16, 17, 18, 10, 11, 12, 13, 14, 15, 16, 17, 18, 19, 11, 12, 13, 14, 15, 16, 17, 18, 19, 20, 12, 13, 14, 15, 16, 17, 18, 19, 20, 21, 13, 14, 15, 16, 17, 18, 19, 20, 21, 22, 14, 15, 16, 17, 18, 19, 20, 21, 22, 23, 15, 16, 17, 18, 19, 20, 21, 22, 23, 24, 7, 8, 9, 10, 11, 12, 13, 14, 15, 16, 8, 9, 10, 11, 12, 13, 14, 15, 16, 17, 9, 10, 11, 12, 13, 14, 15, 16, 17, 18, 10, 11, 12, 13, 14, 15, 16, 17, 18, 19, 11, 12, 13, 14, 15, 16, 17, 18, 19, 20, 12, 13, 14, 15, 16, 17, 18, 19, 20, 21, 13, 14, 15, 16, 17, 18, 19, 20, 21, 22, 14, 15, 16, 17, 18, 19, 20, 21, 22, 23, 15, 16, 17, 18, 19, 20, 21, 22, 23, 24, 16, 17, 18, 19, 20, 21, 22, 23, 24, 25, 8, 9, 10, 11, 12, 13, 14, 15, 16, 17, 9, 10, 11, 12, 13, 14, 15, 16, 17, 18, 10, 11, 12, 13, 14, 15, 16, 17, 18, 19, 11, 12, 13, 14, 15, 16, 17, 18, 19, 20, 12, 13, 14, 15, 16, 17, 18, 19, 20, 21, 13, 14, 15, 16, 17, 18, 19, 20, 21, 22, 14, 15, 16, 17, 18, 19, 20, 21, 22, 23, 15, 16, 17, 18, 19, 20, 21, 22, 23, 24, 16, 17, 18, 19, 20, 21, 22, 23, 24, 25, 17, 18, 19, 20, 21, 22, 23, 24, 25, 26, 9, 10, 11, 12, 13, 14, 15, 16, 17, 18, 10, 11, 12, 13, 14, 15, 16, 17, 18, 19, 11, 12, 13, 14, 15, 16, 17, 18, 19, 20, 12, 13, 14, 15, 16, 17, 18, 19, 20, 21, 13, 14, 15, 16, 17, 18, 19, 20, 21, 22, 14, 15, 16, 17, 18, 19, 20, 21, 22, 23, 15, 16, 17, 18, 19, 20, 21, 22, 23, 24, 16, 17, 18, 19, 20, 21, 22, 23, 24, 25, 17, 18, 19, 20, 21, 22, 23, 24, 25, 26, 18, 19, 20, 21, 22, 23, 24, 25, 26, 27, 1]\n"
          ]
        }
      ]
    },
    {
      "cell_type": "markdown",
      "source": [
        "40. Write a program that generates a list of prime palindromic numbers using list comprehension.\n"
      ],
      "metadata": {
        "id": "I-7IVT0Q3n04"
      }
    },
    {
      "cell_type": "code",
      "source": [
        "def is_prime(n):\n",
        "\n",
        "  if n < 2:\n",
        "    return False\n",
        "  for i in range(2, int(n**0.5) + 1):\n",
        "    if n % i == 0:\n",
        "      return False\n",
        "  return True\n",
        "\n",
        "def is_palindrome(n):\n",
        "  # Convert the number to a string\n",
        "  s = str(n)\n",
        "  # Reverse the string\n",
        "  r = s[::-1]\n",
        "  return s == r\n",
        "\n",
        "numbers = [n for n in range(1, 500)]\n",
        "\n",
        "primes_palindromes = [n for n in numbers if is_prime(n) and is_palindrome(n)]\n",
        "\n",
        "print(primes_palindromes)\n"
      ],
      "metadata": {
        "colab": {
          "base_uri": "https://localhost:8080/"
        },
        "id": "kNVqmsJ63rx0",
        "outputId": "25227c0a-bdd6-4dc3-b51d-4fc1871fdf82"
      },
      "execution_count": 5,
      "outputs": [
        {
          "output_type": "stream",
          "name": "stdout",
          "text": [
            "[2, 3, 5, 7, 11, 101, 131, 151, 181, 191, 313, 353, 373, 383]\n"
          ]
        }
      ]
    }
  ],
  "metadata": {
    "colab": {
      "provenance": [],
      "authorship_tag": "ABX9TyNOL0UnOQ0i5embtTS9CvNC",
      "include_colab_link": true
    },
    "kernelspec": {
      "display_name": "Python 3",
      "name": "python3"
    },
    "language_info": {
      "name": "python"
    }
  },
  "nbformat": 4,
  "nbformat_minor": 0
}